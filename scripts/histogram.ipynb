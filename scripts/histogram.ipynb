{
 "cells": [
  {
   "cell_type": "code",
   "execution_count": 3,
   "metadata": {},
   "outputs": [],
   "source": [
    "## plot the histogram showing the modeled and labeled result \n",
    "import numpy as ny\n",
    "import pandas as pd\n",
    "import matplotlib.pyplot as plt\n",
    "%matplotlib inline\n"
   ]
  },
  {
   "cell_type": "code",
   "execution_count": 71,
   "metadata": {},
   "outputs": [],
   "source": [
    "# read data \n",
    "def read_comp(file):\n",
    "    Pwave = {}\n",
    "    Pwave['correct'] = []\n",
    "    Pwave['wrongphase'] = []\n",
    "    Pwave['miss'] = 0\n",
    "    Pwave['multiphase'] = []    \n",
    "    \n",
    "    with open(file, 'r') as comp:\n",
    "         for line in comp:\n",
    "            \n",
    "            pickline = line.split(',')\n",
    "            if pickline[0].strip() == 'EQP' and pickline[1].strip() == 'P' and len(pickline)==3:\n",
    "                Pwave['correct'].append (pickline[2])\n",
    "            if pickline[0].strip() == 'EQP' and pickline[1].strip() != 'P' and pickline[1].strip() != 'N':\n",
    "                Pwave['wrongphase'].append (pickline[2])\n",
    "            if pickline[0].strip() == 'EQP' and pickline[1].strip() == 'P' and len(pickline)>3:  \n",
    "                #the line should be type, labelled type, time difference\n",
    "                Pwave['multiphase'].append(len(pickline)-3)\n",
    "            if pickline[0].strip() == 'EQP' and pickline[1].strip() == 'N':\n",
    "                Pwave['miss'] +=1\n",
    "     \n",
    "    return Pwave\n",
    "            \n",
    "        \n",
    "        "
   ]
  },
  {
   "cell_type": "code",
   "execution_count": 75,
   "metadata": {},
   "outputs": [
    {
     "data": {
      "text/plain": [
       "{'correct': [' -2.5\\n', ' 3.2'],\n",
       " 'wrongphase': [' 1.4            \\n'],\n",
       " 'miss': 1,\n",
       " 'multiphase': [2]}"
      ]
     },
     "execution_count": 75,
     "metadata": {},
     "output_type": "execute_result"
    }
   ],
   "source": [
    "test = read_comp('../comparision.txt')\n",
    "test"
   ]
  },
  {
   "cell_type": "code",
   "execution_count": 64,
   "metadata": {},
   "outputs": [
    {
     "name": "stdout",
     "output_type": "stream",
     "text": [
      "['EQP', ' P', ' -2.5\\n'] 3\n",
      "['EQP', ' P', ' 0.55', ' 1.3', ' 3.4  \\n'] 5\n",
      "['EQP', ' N', ' NaN             \\n'] 3\n",
      "['EQP', ' S', ' 1.4            \\n'] 3\n",
      "['EQP', ' P', ' 3.2'] 3\n"
     ]
    }
   ],
   "source": [
    "with open ('../comparision.txt') as test:\n",
    "    for line in test:\n",
    "        pickline = line.split(',')\n",
    "        print (pickline, len(pickline))"
   ]
  },
  {
   "cell_type": "code",
   "execution_count": 79,
   "metadata": {},
   "outputs": [
    {
     "name": "stderr",
     "output_type": "stream",
     "text": [
      "No handles with labels found to put in legend.\n"
     ]
    },
    {
     "data": {
      "text/plain": [
       "<matplotlib.legend.Legend at 0x7f120cbb0a20>"
      ]
     },
     "execution_count": 79,
     "metadata": {},
     "output_type": "execute_result"
    },
    {
     "data": {
      "image/png": "[encoded data removed]",
      "text/plain": [
       "<Figure size 720x432 with 1 Axes>"
      ]
     },
     "metadata": {
      "needs_background": "light"
     },
     "output_type": "display_data"
    }
   ],
   "source": [
    "# plot histogram of the correct plot \n",
    "fig, ax = plt.subplots(figsize = (10,6))\n",
    "\n",
    "#k = np.random.normal(float(test['EQS'][ID]['time']), 3, 1000)\n",
    "fig = plt.hist(test['correct'])\n",
    "ax.set_ylabel('number', fontsize=15)\n",
    "ax.set_xlabel('time difference (S)', fontsize=15)\n",
    "ax.set_title('Correct Phase with time difference')\n",
    "plt.xticks(fontsize=15)\n",
    "plt.yticks(fontsize=15)\n",
    "plt.legend(fontsize=15)"
   ]
  },
  {
   "cell_type": "code",
   "execution_count": 80,
   "metadata": {},
   "outputs": [
    {
     "name": "stderr",
     "output_type": "stream",
     "text": [
      "No handles with labels found to put in legend.\n"
     ]
    },
    {
     "data": {
      "text/plain": [
       "<matplotlib.legend.Legend at 0x7f120cb0cc18>"
      ]
     },
     "execution_count": 80,
     "metadata": {},
     "output_type": "execute_result"
    },
    {
     "data": {
      "image/png": "[encoded data removed]",
      "text/plain": [
       "<Figure size 720x432 with 1 Axes>"
      ]
     },
     "metadata": {
      "needs_background": "light"
     },
     "output_type": "display_data"
    }
   ],
   "source": [
    "# plot histogram of the wrongphase plot \n",
    "fig, ax = plt.subplots(figsize = (10,6))\n",
    "\n",
    "#k = np.random.normal(float(test['EQS'][ID]['time']), 3, 1000)\n",
    "fig = plt.hist(test['wrongphase'])\n",
    "ax.set_ylabel('number', fontsize=15)\n",
    "ax.set_xlabel('time difference (S)', fontsize=15)\n",
    "ax.set_title('Correct Phase with time difference')\n",
    "plt.xticks(fontsize=15)\n",
    "plt.yticks(fontsize=15)\n",
    "plt.legend(fontsize=15)"
   ]
  },
  {
   "cell_type": "code",
   "execution_count": null,
   "metadata": {},
   "outputs": [],
   "source": []
  }
 ],
 "metadata": {
  "kernelspec": {
   "display_name": "Python 3",
   "language": "python",
   "name": "python3"
  },
  "language_info": {
   "codemirror_mode": {
    "name": "ipython",
    "version": 3
   },
   "file_extension": ".py",
   "mimetype": "text/x-python",
   "name": "python",
   "nbconvert_exporter": "python",
   "pygments_lexer": "ipython3",
   "version": "3.7.3"
  }
 },
 "nbformat": 4,
 "nbformat_minor": 4
}
