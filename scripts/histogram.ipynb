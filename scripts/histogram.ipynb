{
 "cells": [
  {
   "cell_type": "code",
   "execution_count": 125,
   "metadata": {},
   "outputs": [],
   "source": [
    "## plot the histogram showing the modeled and labeled result \n",
    "import numpy as np\n",
    "import pandas as pd\n",
    "import matplotlib.pyplot as plt\n",
    "%matplotlib inline\n"
   ]
  },
  {
   "cell_type": "code",
   "execution_count": 107,
   "metadata": {},
   "outputs": [],
   "source": [
    "# read data \n",
    "ty  = ['EQS','EQP','SUS','SUP','THS','THP','SNS','SNP','PXS','PXP']\n",
    "wave = {}\n",
    "for t in ty:\n",
    "    wave[t] = {}\n",
    "    wave[t]['correct'] = []\n",
    "    wave[t]['wrongphase'] = []\n",
    "    wave[t]['miss'] = 0\n",
    "    wave[t]['multiphase'] = []   \n",
    "                            "
   ]
  },
  {
   "cell_type": "code",
   "execution_count": 110,
   "metadata": {},
   "outputs": [
    {
     "data": {
      "text/plain": [
       "{'correct': [], 'wrongphase': [], 'miss': 0, 'multiphase': []}"
      ]
     },
     "execution_count": 110,
     "metadata": {},
     "output_type": "execute_result"
    }
   ],
   "source": [
    "wave['EQS']"
   ]
  },
  {
   "cell_type": "code",
   "execution_count": 150,
   "metadata": {},
   "outputs": [],
   "source": [
    "def read_comp(file):\n",
    "    Pwave = {}\n",
    "    Pwave['correct'] = []\n",
    "    Pwave['wrongphase'] = []\n",
    "    Pwave['miss'] = 0\n",
    "    Pwave['multiphase'] = []    \n",
    "    \n",
    "    with open(file, 'r') as comp:\n",
    "         for line in comp:\n",
    "            pickline = line.split(' ')\n",
    "            if pickline[0].strip()[-1] == 'P' and pickline[1].strip() == 'P' and len(pickline)==3:\n",
    "                Pwave['correct'].append(float(pickline[2][:-2]))\n",
    "            if pickline[0].strip()[-1] == 'P' and pickline[1].strip() != 'P' and pickline[1].strip() != 'N':\n",
    "                Pwave['wrongphase'].append (float(pickline[2][:-2]))\n",
    "            if pickline[0].strip()[-1] == 'P' and pickline[1].strip() == 'P' and len(pickline)>3:  \n",
    "                Pwave['multiphase'].append(len(pickline)-2)\n",
    "            if pickline[0].strip()[-1] == 'P' and pickline[1].strip() == 'N':\n",
    "                Pwave['miss'] +=1\n",
    "     \n",
    "    \n",
    "    \n",
    "    return Pwave"
   ]
  },
  {
   "cell_type": "code",
   "execution_count": null,
   "metadata": {},
   "outputs": [],
   "source": [
    "for name in tp:\n",
    "    test = read_comp('../'+name+'.out')"
   ]
  },
  {
   "cell_type": "code",
   "execution_count": 151,
   "metadata": {},
   "outputs": [
    {
     "data": {
      "text/plain": [
       "{'correct': [0.0996,\n",
       "  0.0195,\n",
       "  0.0,\n",
       "  0.8968,\n",
       "  0.0975,\n",
       "  0.5011,\n",
       "  0.8989,\n",
       "  0.7997,\n",
       "  0.0,\n",
       "  4.499,\n",
       "  2.2975,\n",
       "  0.5995,\n",
       "  0.1992,\n",
       "  0.6977,\n",
       "  0.0013,\n",
       "  0.2978,\n",
       "  0.2008,\n",
       "  0.1976,\n",
       "  0.6997,\n",
       "  0.1976,\n",
       "  0.7985,\n",
       "  0.5976,\n",
       "  0.9,\n",
       "  0.9094,\n",
       "  0.8086,\n",
       "  1.0,\n",
       "  2.2017,\n",
       "  3.6004,\n",
       "  2.2003,\n",
       "  2.1004,\n",
       "  2.002,\n",
       "  2.0,\n",
       "  1.8026,\n",
       "  0.0004,\n",
       "  2.1014,\n",
       "  2.0027,\n",
       "  1.9013,\n",
       "  1.2993,\n",
       "  2.402,\n",
       "  2.0002,\n",
       "  0.8013,\n",
       "  2.0,\n",
       "  1.3008,\n",
       "  1.0013,\n",
       "  1.9013,\n",
       "  1.0003,\n",
       "  0.5995,\n",
       "  1.9,\n",
       "  2.0001,\n",
       "  1.4003,\n",
       "  1.502,\n",
       "  2.902,\n",
       "  3.3019],\n",
       " 'wrongphase': [0.695,\n",
       "  0.0,\n",
       "  0.2023,\n",
       "  0.0,\n",
       "  1.3027,\n",
       "  0.3997,\n",
       "  2.4015,\n",
       "  0.7,\n",
       "  0.4005,\n",
       "  0.3002,\n",
       "  0.18,\n",
       "  2.4986,\n",
       "  2.198,\n",
       "  2.601,\n",
       "  0.298,\n",
       "  0.0,\n",
       "  1.2016,\n",
       "  0.1019,\n",
       "  0.2002,\n",
       "  0.3008,\n",
       "  0.019,\n",
       "  4.0005,\n",
       "  0.502,\n",
       "  1.1001,\n",
       "  2.019,\n",
       "  1.401,\n",
       "  2.3018,\n",
       "  3.581,\n",
       "  2.2197,\n",
       "  1.914,\n",
       "  2.8028,\n",
       "  2.0007,\n",
       "  2.3006,\n",
       "  2.5014,\n",
       "  2.7002,\n",
       "  1.9015,\n",
       "  0.798,\n",
       "  1.0,\n",
       "  1.0006,\n",
       "  2.0,\n",
       "  2.101,\n",
       "  1.7002,\n",
       "  4.6015,\n",
       "  2.7025,\n",
       "  2.799,\n",
       "  1.7],\n",
       " 'miss': 63,\n",
       " 'multiphase': [2, 2, 3, 2, 2]}"
      ]
     },
     "execution_count": 151,
     "metadata": {},
     "output_type": "execute_result"
    }
   ],
   "source": [
    "t = 'comparison'\n",
    "test = read_comp('../'+t+'.out')\n",
    "test"
   ]
  },
  {
   "cell_type": "code",
   "execution_count": 152,
   "metadata": {},
   "outputs": [
    {
     "name": "stderr",
     "output_type": "stream",
     "text": [
      "No handles with labels found to put in legend.\n"
     ]
    },
    {
     "data": {
      "image/png": "[encoded data removed]",
      "text/plain": [
       "<Figure size 720x432 with 1 Axes>"
      ]
     },
     "metadata": {
      "needs_background": "light"
     },
     "output_type": "display_data"
    }
   ],
   "source": [
    "# plot histogram of the correct plot \n",
    "fig, ax = plt.subplots(figsize = (10,6))\n",
    "\n",
    "fig = plt.hist(test['correct'],bins= 10)\n",
    "ax.set_ylabel('number', fontsize=15)\n",
    "ax.set_xlabel('time difference (s)', fontsize=15)\n",
    "ax.set_title('Correct Phase with time difference')\n",
    "plt.xticks(fontsize=15)\n",
    "#plt.xticks( rotation='vertical')\n",
    "plt.xticks(np.arange(-10, 10, step=1))\n",
    "plt.yticks(fontsize=15)\n",
    "plt.legend(fontsize=15)\n",
    "plt.savefig('test.jpg')"
   ]
  },
  {
   "cell_type": "code",
   "execution_count": 154,
   "metadata": {},
   "outputs": [
    {
     "name": "stderr",
     "output_type": "stream",
     "text": [
      "No handles with labels found to put in legend.\n"
     ]
    },
    {
     "data": {
      "text/plain": [
       "<matplotlib.legend.Legend at 0x7f120a5af358>"
      ]
     },
     "execution_count": 154,
     "metadata": {},
     "output_type": "execute_result"
    },
    {
     "data": {
      "image/png": "[encoded data removed]",
      "text/plain": [
       "<Figure size 720x432 with 1 Axes>"
      ]
     },
     "metadata": {
      "needs_background": "light"
     },
     "output_type": "display_data"
    }
   ],
   "source": [
    "# plot histogram of the wrongphase plot \n",
    "fig, ax = plt.subplots(figsize = (10,6))\n",
    "\n",
    "#k = np.random.normal(float(test['EQS'][ID]['time']), 3, 1000)\n",
    "fig = plt.hist(test['wrongphase'])\n",
    "ax.set_ylabel('number', fontsize=15)\n",
    "ax.set_xlabel('time difference (S)', fontsize=15)\n",
    "ax.set_title('Correct Phase with time difference')\n",
    "plt.xticks(fontsize=15)\n",
    "plt.yticks(fontsize=15)\n",
    "plt.xticks(np.arange(-10, 10, step=1))\n",
    "plt.legend(fontsize=15)"
   ]
  },
  {
   "cell_type": "code",
   "execution_count": 155,
   "metadata": {},
   "outputs": [
    {
     "name": "stderr",
     "output_type": "stream",
     "text": [
      "No handles with labels found to put in legend.\n"
     ]
    },
    {
     "data": {
      "text/plain": [
       "<matplotlib.legend.Legend at 0x7f122510d630>"
      ]
     },
     "execution_count": 155,
     "metadata": {},
     "output_type": "execute_result"
    },
    {
     "data": {
      "image/png": "[encoded data removed]",
      "text/plain": [
       "<Figure size 720x432 with 1 Axes>"
      ]
     },
     "metadata": {
      "needs_background": "light"
     },
     "output_type": "display_data"
    }
   ],
   "source": [
    "# plot histogram of the wrongphase plot \n",
    "fig, ax = plt.subplots(figsize = (10,6))\n",
    "#k = np.random.normal(float(test['EQS'][ID]['time']), 3, 1000)\n",
    "fig = plt.hist(test['multiphase'])\n",
    "ax.set_ylabel('number', fontsize=15)\n",
    "ax.set_xlabel('time difference (S)', fontsize=15)\n",
    "ax.set_title('Correct Phase with time difference')\n",
    "plt.xticks(fontsize=15)\n",
    "plt.yticks(fontsize=15)\n",
    "#plt.xticks(np.arange(-10, 10, step=1))\n",
    "plt.legend(fontsize=15)"
   ]
  },
  {
   "cell_type": "code",
   "execution_count": 87,
   "metadata": {},
   "outputs": [
    {
     "data": {
      "text/html": [
       "<div>\n",
       "<style scoped>\n",
       "    .dataframe tbody tr th:only-of-type {\n",
       "        vertical-align: middle;\n",
       "    }\n",
       "\n",
       "    .dataframe tbody tr th {\n",
       "        vertical-align: top;\n",
       "    }\n",
       "\n",
       "    .dataframe thead th {\n",
       "        text-align: right;\n",
       "    }\n",
       "</style>\n",
       "<table border=\"1\" class=\"dataframe\">\n",
       "  <thead>\n",
       "    <tr style=\"text-align: right;\">\n",
       "      <th></th>\n",
       "      <th>type</th>\n",
       "      <th>mod_type</th>\n",
       "      <th>time</th>\n",
       "    </tr>\n",
       "  </thead>\n",
       "  <tbody>\n",
       "    <tr>\n",
       "      <th>0</th>\n",
       "      <td>EQS</td>\n",
       "      <td>N</td>\n",
       "      <td>NaN</td>\n",
       "    </tr>\n",
       "    <tr>\n",
       "      <th>1</th>\n",
       "      <td>EQP</td>\n",
       "      <td>N</td>\n",
       "      <td>NaN</td>\n",
       "    </tr>\n",
       "    <tr>\n",
       "      <th>2</th>\n",
       "      <td>EQS</td>\n",
       "      <td>N</td>\n",
       "      <td>NaN</td>\n",
       "    </tr>\n",
       "    <tr>\n",
       "      <th>3</th>\n",
       "      <td>EQP</td>\n",
       "      <td>N</td>\n",
       "      <td>NaN</td>\n",
       "    </tr>\n",
       "    <tr>\n",
       "      <th>4</th>\n",
       "      <td>EQS</td>\n",
       "      <td>N</td>\n",
       "      <td>NaN</td>\n",
       "    </tr>\n",
       "  </tbody>\n",
       "</table>\n",
       "</div>"
      ],
      "text/plain": [
       "  type mod_type  time\n",
       "0  EQS        N   NaN\n",
       "1  EQP        N   NaN\n",
       "2  EQS        N   NaN\n",
       "3  EQP        N   NaN\n",
       "4  EQS        N   NaN"
      ]
     },
     "execution_count": 87,
     "metadata": {},
     "output_type": "execute_result"
    }
   ],
   "source": [
    "comp = pd. read_csv('../comparison.out', names=['type','mod_type','time'],sep = ' ')\n",
    "comp.head()                   "
   ]
  },
  {
   "cell_type": "code",
   "execution_count": 91,
   "metadata": {},
   "outputs": [
    {
     "data": {
      "text/plain": [
       "N    76767\n",
       "P       58\n",
       "S       47\n",
       "Name: mod_type, dtype: int64"
      ]
     },
     "execution_count": 91,
     "metadata": {},
     "output_type": "execute_result"
    }
   ],
   "source": [
    "comp['mod_type'].value_counts()"
   ]
  },
  {
   "cell_type": "code",
   "execution_count": 137,
   "metadata": {},
   "outputs": [
    {
     "data": {
      "text/plain": [
       "count    104.000000\n",
       "mean       1.415390\n",
       "std        1.072226\n",
       "min        0.000470\n",
       "25%        0.500750\n",
       "50%        1.301450\n",
       "75%        2.101310\n",
       "max        4.601530\n",
       "Name: time, dtype: float64"
      ]
     },
     "execution_count": 137,
     "metadata": {},
     "output_type": "execute_result"
    }
   ],
   "source": [
    "comp['time'][comp['type']=='THP'].describe()"
   ]
  },
  {
   "cell_type": "code",
   "execution_count": 139,
   "metadata": {},
   "outputs": [
    {
     "name": "stderr",
     "output_type": "stream",
     "text": [
      "/srv/conda/envs/notebook/lib/python3.7/site-packages/ipykernel_launcher.py:1: ParserWarning: Falling back to the 'python' engine because the 'c' engine does not support regex separators (separators > 1 char and different from '\\s+' are interpreted as regex); you can avoid this warning by specifying engine='python'.\n",
      "  \"\"\"Entry point for launching an IPython kernel.\n"
     ]
    },
    {
     "data": {
      "text/html": [
       "<div>\n",
       "<style scoped>\n",
       "    .dataframe tbody tr th:only-of-type {\n",
       "        vertical-align: middle;\n",
       "    }\n",
       "\n",
       "    .dataframe tbody tr th {\n",
       "        vertical-align: top;\n",
       "    }\n",
       "\n",
       "    .dataframe thead th {\n",
       "        text-align: right;\n",
       "    }\n",
       "</style>\n",
       "<table border=\"1\" class=\"dataframe\">\n",
       "  <thead>\n",
       "    <tr style=\"text-align: right;\">\n",
       "      <th></th>\n",
       "      <th>EQS N nan</th>\n",
       "    </tr>\n",
       "  </thead>\n",
       "  <tbody>\n",
       "    <tr>\n",
       "      <th>0</th>\n",
       "      <td>EQP N nan</td>\n",
       "    </tr>\n",
       "    <tr>\n",
       "      <th>1</th>\n",
       "      <td>EQS N nan</td>\n",
       "    </tr>\n",
       "    <tr>\n",
       "      <th>2</th>\n",
       "      <td>EQP N nan</td>\n",
       "    </tr>\n",
       "    <tr>\n",
       "      <th>3</th>\n",
       "      <td>EQS N nan</td>\n",
       "    </tr>\n",
       "    <tr>\n",
       "      <th>4</th>\n",
       "      <td>EQP N nan</td>\n",
       "    </tr>\n",
       "  </tbody>\n",
       "</table>\n",
       "</div>"
      ],
      "text/plain": [
       "   EQS N nan\n",
       "0  EQP N nan\n",
       "1  EQS N nan\n",
       "2  EQP N nan\n",
       "3  EQS N nan\n",
       "4  EQP N nan"
      ]
     },
     "execution_count": 139,
     "metadata": {},
     "output_type": "execute_result"
    }
   ],
   "source": [
    "comp = pd. read_csv('../comparison.out', sep = '/s+')\n",
    "comp.head()  "
   ]
  },
  {
   "cell_type": "code",
   "execution_count": 148,
   "metadata": {},
   "outputs": [],
   "source": [
    "with open('../comparison.out', 'r') as comp:\n",
    "    leng = []\n",
    "    for line in comp:\n",
    "        pickline = line.split(' ')\n",
    "        leng.append(len(pickline))"
   ]
  },
  {
   "cell_type": "code",
   "execution_count": 149,
   "metadata": {},
   "outputs": [
    {
     "data": {
      "text/plain": [
       "6"
      ]
     },
     "execution_count": 149,
     "metadata": {},
     "output_type": "execute_result"
    }
   ],
   "source": [
    "max(leng)"
   ]
  },
  {
   "cell_type": "code",
   "execution_count": null,
   "metadata": {},
   "outputs": [],
   "source": []
  }
 ],
 "metadata": {
  "kernelspec": {
   "display_name": "Python 3",
   "language": "python",
   "name": "python3"
  },
  "language_info": {
   "codemirror_mode": {
    "name": "ipython",
    "version": 3
   },
   "file_extension": ".py",
   "mimetype": "text/x-python",
   "name": "python",
   "nbconvert_exporter": "python",
   "pygments_lexer": "ipython3",
   "version": "3.7.3"
  }
 },
 "nbformat": 4,
 "nbformat_minor": 4
}
