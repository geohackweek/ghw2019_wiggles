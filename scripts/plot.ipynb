{
 "cells": [
  {
   "cell_type": "code",
   "execution_count": 1,
   "metadata": {},
   "outputs": [],
   "source": [
    "import numpy as np \n",
    "import seaborn as sns\n",
    "import pandas as pd\n",
    "import glob\n",
    "import os"
   ]
  },
  {
   "cell_type": "code",
   "execution_count": 2,
   "metadata": {},
   "outputs": [
    {
     "data": {
      "text/plain": [
       "'/home/jovyan/ghw2019_wiggles/scripts'"
      ]
     },
     "execution_count": 2,
     "metadata": {},
     "output_type": "execute_result"
    }
   ],
   "source": [
    "os.getcwd()"
   ]
  },
  {
   "cell_type": "code",
   "execution_count": 3,
   "metadata": {},
   "outputs": [
    {
     "data": {
      "text/html": [
       "<div>\n",
       "<style scoped>\n",
       "    .dataframe tbody tr th:only-of-type {\n",
       "        vertical-align: middle;\n",
       "    }\n",
       "\n",
       "    .dataframe tbody tr th {\n",
       "        vertical-align: top;\n",
       "    }\n",
       "\n",
       "    .dataframe thead th {\n",
       "        text-align: right;\n",
       "    }\n",
       "</style>\n",
       "<table border=\"1\" class=\"dataframe\">\n",
       "  <thead>\n",
       "    <tr style=\"text-align: right;\">\n",
       "      <th></th>\n",
       "      <th>type</th>\n",
       "      <th>unix_time</th>\n",
       "      <th>network</th>\n",
       "      <th></th>\n",
       "      <th>location</th>\n",
       "      <th>channal</th>\n",
       "      <th>arr_label</th>\n",
       "      <th>quality</th>\n",
       "      <th>who</th>\n",
       "    </tr>\n",
       "  </thead>\n",
       "  <tbody>\n",
       "    <tr>\n",
       "      <th>0</th>\n",
       "      <td>['EQ'</td>\n",
       "      <td>1.568130e+09</td>\n",
       "      <td>'LON'</td>\n",
       "      <td>'UW'</td>\n",
       "      <td>'  '</td>\n",
       "      <td>'HHN'</td>\n",
       "      <td>'S'</td>\n",
       "      <td>'i'</td>\n",
       "      <td>'H']</td>\n",
       "    </tr>\n",
       "    <tr>\n",
       "      <th>1</th>\n",
       "      <td>['EQ'</td>\n",
       "      <td>1.568130e+09</td>\n",
       "      <td>'PR05'</td>\n",
       "      <td>'CC'</td>\n",
       "      <td>'  '</td>\n",
       "      <td>'BHZ'</td>\n",
       "      <td>'P'</td>\n",
       "      <td>'i'</td>\n",
       "      <td>'H']</td>\n",
       "    </tr>\n",
       "    <tr>\n",
       "      <th>2</th>\n",
       "      <td>['EQ'</td>\n",
       "      <td>1.568130e+09</td>\n",
       "      <td>'PR05'</td>\n",
       "      <td>'CC'</td>\n",
       "      <td>'  '</td>\n",
       "      <td>'BHN'</td>\n",
       "      <td>'S'</td>\n",
       "      <td>'i'</td>\n",
       "      <td>'H']</td>\n",
       "    </tr>\n",
       "    <tr>\n",
       "      <th>3</th>\n",
       "      <td>['EQ'</td>\n",
       "      <td>1.568130e+09</td>\n",
       "      <td>'SIFT'</td>\n",
       "      <td>'CC'</td>\n",
       "      <td>'  '</td>\n",
       "      <td>'BHZ'</td>\n",
       "      <td>'P'</td>\n",
       "      <td>'i'</td>\n",
       "      <td>'H']</td>\n",
       "    </tr>\n",
       "    <tr>\n",
       "      <th>4</th>\n",
       "      <td>['EQ'</td>\n",
       "      <td>1.568130e+09</td>\n",
       "      <td>'SIFT'</td>\n",
       "      <td>'CC'</td>\n",
       "      <td>'  '</td>\n",
       "      <td>'BHE'</td>\n",
       "      <td>'S'</td>\n",
       "      <td>'i'</td>\n",
       "      <td>'H']</td>\n",
       "    </tr>\n",
       "  </tbody>\n",
       "</table>\n",
       "</div>"
      ],
      "text/plain": [
       "    type     unix_time  network        location channal arr_label quality  \\\n",
       "0  ['EQ'  1.568130e+09    'LON'   'UW'     '  '   'HHN'       'S'     'i'   \n",
       "1  ['EQ'  1.568130e+09   'PR05'   'CC'     '  '   'BHZ'       'P'     'i'   \n",
       "2  ['EQ'  1.568130e+09   'PR05'   'CC'     '  '   'BHN'       'S'     'i'   \n",
       "3  ['EQ'  1.568130e+09   'SIFT'   'CC'     '  '   'BHZ'       'P'     'i'   \n",
       "4  ['EQ'  1.568130e+09   'SIFT'   'CC'     '  '   'BHE'       'S'     'i'   \n",
       "\n",
       "     who  \n",
       "0   'H']  \n",
       "1   'H']  \n",
       "2   'H']  \n",
       "3   'H']  \n",
       "4   'H']  "
      ]
     },
     "execution_count": 3,
     "metadata": {},
     "output_type": "execute_result"
    }
   ],
   "source": [
    "df = pd.read_csv('../Labeled_arrivals_from_UWdatabase.txt',\n",
    "                 names = ['type','unix_time','network','','location','channal','arr_label','quality','who'])\n",
    "#df = df.reset_index()\n",
    "df.head()"
   ]
  },
  {
   "cell_type": "code",
   "execution_count": null,
   "metadata": {},
   "outputs": [],
   "source": []
  },
  {
   "cell_type": "code",
   "execution_count": null,
   "metadata": {},
   "outputs": [],
   "source": []
  }
 ],
 "metadata": {
  "kernelspec": {
   "display_name": "Python 3",
   "language": "python",
   "name": "python3"
  },
  "language_info": {
   "codemirror_mode": {
    "name": "ipython",
    "version": 3
   },
   "file_extension": ".py",
   "mimetype": "text/x-python",
   "name": "python",
   "nbconvert_exporter": "python",
   "pygments_lexer": "ipython3",
   "version": "3.7.3"
  }
 },
 "nbformat": 4,
 "nbformat_minor": 4
}
