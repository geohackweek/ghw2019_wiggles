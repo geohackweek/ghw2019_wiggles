{
 "cells": [
  {
   "cell_type": "markdown",
   "metadata": {},
   "source": [
    "# Generalized phase detection\n",
    "\n",
    "The purpose of this notebook is to test the Generalized Seismic Phase Detection with Deep Learning code from Ross et al. (2018) using data from the PNSN.\n",
    "\n",
    "The code can be found at:\n",
    "https://github.com/interseismic/generalized-phase-detection"
   ]
  },
  {
   "cell_type": "markdown",
   "metadata": {},
   "source": [
    "Set the path where to find Python modules"
   ]
  },
  {
   "cell_type": "code",
   "execution_count": 1,
   "metadata": {},
   "outputs": [],
   "source": [
    "import sys\n",
    "sys.path.append('../contributors/ariane')"
   ]
  },
  {
   "cell_type": "markdown",
   "metadata": {},
   "source": [
    "## List of annotated seismic data"
   ]
  },
  {
   "cell_type": "code",
   "execution_count": 2,
   "metadata": {},
   "outputs": [],
   "source": [
    "from get_data import read_input_file\n",
    "data = read_input_file('../Labeled_arrivals_from_UWdatabase.txt')"
   ]
  },
  {
   "cell_type": "code",
   "execution_count": 3,
   "metadata": {},
   "outputs": [
    {
     "data": {
      "text/html": [
       "<div>\n",
       "<style scoped>\n",
       "    .dataframe tbody tr th:only-of-type {\n",
       "        vertical-align: middle;\n",
       "    }\n",
       "\n",
       "    .dataframe tbody tr th {\n",
       "        vertical-align: top;\n",
       "    }\n",
       "\n",
       "    .dataframe thead th {\n",
       "        text-align: right;\n",
       "    }\n",
       "</style>\n",
       "<table border=\"1\" class=\"dataframe\">\n",
       "  <thead>\n",
       "    <tr style=\"text-align: right;\">\n",
       "      <th></th>\n",
       "      <th>type</th>\n",
       "      <th>time</th>\n",
       "      <th>station</th>\n",
       "      <th>network</th>\n",
       "      <th>location</th>\n",
       "      <th>channel</th>\n",
       "      <th>label</th>\n",
       "      <th>quality</th>\n",
       "      <th>who</th>\n",
       "    </tr>\n",
       "  </thead>\n",
       "  <tbody>\n",
       "    <tr>\n",
       "      <td>0</td>\n",
       "      <td>EQ</td>\n",
       "      <td>1.568130e+09</td>\n",
       "      <td>LON</td>\n",
       "      <td>UW</td>\n",
       "      <td></td>\n",
       "      <td>HHN</td>\n",
       "      <td>S</td>\n",
       "      <td>i</td>\n",
       "      <td>H</td>\n",
       "    </tr>\n",
       "    <tr>\n",
       "      <td>1</td>\n",
       "      <td>EQ</td>\n",
       "      <td>1.568130e+09</td>\n",
       "      <td>PR05</td>\n",
       "      <td>CC</td>\n",
       "      <td></td>\n",
       "      <td>BHZ</td>\n",
       "      <td>P</td>\n",
       "      <td>i</td>\n",
       "      <td>H</td>\n",
       "    </tr>\n",
       "    <tr>\n",
       "      <td>2</td>\n",
       "      <td>EQ</td>\n",
       "      <td>1.568130e+09</td>\n",
       "      <td>PR05</td>\n",
       "      <td>CC</td>\n",
       "      <td></td>\n",
       "      <td>BHN</td>\n",
       "      <td>S</td>\n",
       "      <td>i</td>\n",
       "      <td>H</td>\n",
       "    </tr>\n",
       "    <tr>\n",
       "      <td>3</td>\n",
       "      <td>EQ</td>\n",
       "      <td>1.568130e+09</td>\n",
       "      <td>SIFT</td>\n",
       "      <td>CC</td>\n",
       "      <td></td>\n",
       "      <td>BHZ</td>\n",
       "      <td>P</td>\n",
       "      <td>i</td>\n",
       "      <td>H</td>\n",
       "    </tr>\n",
       "    <tr>\n",
       "      <td>4</td>\n",
       "      <td>EQ</td>\n",
       "      <td>1.568130e+09</td>\n",
       "      <td>SIFT</td>\n",
       "      <td>CC</td>\n",
       "      <td></td>\n",
       "      <td>BHE</td>\n",
       "      <td>S</td>\n",
       "      <td>i</td>\n",
       "      <td>H</td>\n",
       "    </tr>\n",
       "  </tbody>\n",
       "</table>\n",
       "</div>"
      ],
      "text/plain": [
       "  type          time station network location channel label quality who\n",
       "0   EQ  1.568130e+09     LON      UW              HHN     S       i   H\n",
       "1   EQ  1.568130e+09    PR05      CC              BHZ     P       i   H\n",
       "2   EQ  1.568130e+09    PR05      CC              BHN     S       i   H\n",
       "3   EQ  1.568130e+09    SIFT      CC              BHZ     P       i   H\n",
       "4   EQ  1.568130e+09    SIFT      CC              BHE     S       i   H"
      ]
     },
     "execution_count": 3,
     "metadata": {},
     "output_type": "execute_result"
    }
   ],
   "source": [
    "data.head()"
   ]
  },
  {
   "cell_type": "markdown",
   "metadata": {},
   "source": [
    "## Download data from IRIS server"
   ]
  },
  {
   "cell_type": "markdown",
   "metadata": {},
   "source": [
    "Create directory to store the data"
   ]
  },
  {
   "cell_type": "code",
   "execution_count": 4,
   "metadata": {},
   "outputs": [],
   "source": [
    "import os\n",
    "if not os.path.exists('../data'):\n",
    "    os.makedirs('../data')"
   ]
  },
  {
   "cell_type": "code",
   "execution_count": 5,
   "metadata": {},
   "outputs": [
    {
     "name": "stderr",
     "output_type": "stream",
     "text": [
      "/srv/conda/envs/seismic-wiggles-env/lib/python3.7/site-packages/obspy/io/mseed/core.py:774: UserWarning: The encoding specified in trace.stats.mseed.encoding does not match the dtype of the data.\n",
      "A suitable encoding will be chosen.\n",
      "  warnings.warn(msg, UserWarning)\n"
     ]
    },
    {
     "name": "stdout",
     "output_type": "stream",
     "text": [
      "Downloaded  20190910154216.UW.LON.HHN.mseed\n",
      "Downloaded  20190910154216.CC.PR05.BHZ.mseed\n"
     ]
    }
   ],
   "source": [
    "from get_data import download_data\n",
    "download_data(data, 'waveforms.in', '../data')"
   ]
  },
  {
   "cell_type": "code",
   "execution_count": 6,
   "metadata": {},
   "outputs": [],
   "source": [
    "os.chdir('../GPDcode')"
   ]
  },
  {
   "cell_type": "code",
   "execution_count": 9,
   "metadata": {},
   "outputs": [
    {
     "data": {
      "text/plain": [
       "0"
      ]
     },
     "execution_count": 9,
     "metadata": {},
     "output_type": "execute_result"
    }
   ],
   "source": [
    "os.system('python gpd_predict.py -V -I waveforms.in -O waveforms.out')"
   ]
  },
  {
   "cell_type": "code",
   "execution_count": null,
   "metadata": {},
   "outputs": [],
   "source": []
  }
 ],
 "metadata": {
  "kernelspec": {
   "display_name": "Python [conda env:notebook] *",
   "language": "python",
   "name": "conda-env-notebook-py"
  },
  "language_info": {
   "codemirror_mode": {
    "name": "ipython",
    "version": 3
   },
   "file_extension": ".py",
   "mimetype": "text/x-python",
   "name": "python",
   "nbconvert_exporter": "python",
   "pygments_lexer": "ipython3",
   "version": "3.7.3"
  }
 },
 "nbformat": 4,
 "nbformat_minor": 4
}
